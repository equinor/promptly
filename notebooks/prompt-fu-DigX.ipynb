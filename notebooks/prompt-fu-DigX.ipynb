{
 "cells": [
  {
   "cell_type": "markdown",
   "id": "3df43403-7733-4fb4-bc54-8a74b851a93a",
   "metadata": {
    "editable": true,
    "slideshow": {
     "slide_type": ""
    },
    "tags": []
   },
   "source": [
    "### <span style=\"color:lightgray\">DigEx 2024, Oslo, Norway</span>\n",
    "\n",
    "# Prompt engineering for geoscientists\n",
    "---\n",
    "\n",
    "### Matt Hall, Equinor &nbsp; `mtha@equinor.com`\n",
    "\n",
    "<span style=\"color:lightgray\">&copy; Matt Hall, Equinor &nbsp; | &nbsp; licensed CC BY, please share this work</span>"
   ]
  },
  {
   "cell_type": "code",
   "execution_count": null,
   "id": "b521eb77-af13-4916-b5b7-b2723c02a1c7",
   "metadata": {
    "editable": true,
    "jupyter": {
     "source_hidden": true
    },
    "slideshow": {
     "slide_type": ""
    },
    "tags": []
   },
   "outputs": [],
   "source": [
    "# See https://platform.openai.com/docs/quickstart\n",
    "from dotenv import load_dotenv\n",
    "\n",
    "_ = load_dotenv(\".env\") # If key is in a file."
   ]
  },
  {
   "cell_type": "code",
   "execution_count": null,
   "id": "6869dfda-1fb4-4bb7-8bca-b431ca98f598",
   "metadata": {
    "editable": true,
    "jupyter": {
     "source_hidden": true
    },
    "slideshow": {
     "slide_type": ""
    },
    "tags": []
   },
   "outputs": [],
   "source": [
    "from openai import OpenAI\n",
    "\n",
    "MODEL = \"gpt-3.5-turbo\"\n",
    "\n",
    "def ask(prompt, temperature=0):\n",
    "    completion = OpenAI().chat.completions.create(\n",
    "        model=MODEL,\n",
    "        temperature=temperature,\n",
    "        messages=[\n",
    "            {\"role\": \"user\", \"content\": prompt}\n",
    "        ])\n",
    "    return completion.choices[0].message.content"
   ]
  },
  {
   "cell_type": "markdown",
   "id": "eeebeeae-f09a-4cef-98d6-abde2aaa748c",
   "metadata": {},
   "source": [
    "## Large language models\n",
    "\n",
    "1. Base models\n",
    "2. Generic instruction tuned 👈 what we mostly have\n",
    "3. Custom fine tuned\n",
    "\n",
    "\n",
    "## What can they do?\n",
    "\n",
    "Lots of things:\n",
    "\n",
    "- **Transformation**, eg translation, correction, formatting\n",
    "- **Summarization**, eg summaries, refactoring\n",
    "- **Analysis**, eg keywords, topics, sentiment, classification\n",
    "- **Expansion** 🐉 eg brainstorming, text generation, Q&A\n",
    "\n",
    "Unfortunately, they are bad at some of them.\n",
    "\n",
    "Unfortunately, they are also very convincing."
   ]
  },
  {
   "cell_type": "markdown",
   "id": "4fd6e395-69ed-453c-bc0e-257d9ddd46fb",
   "metadata": {},
   "source": [
    "## Not just bad, but weird"
   ]
  },
  {
   "cell_type": "code",
   "execution_count": null,
   "id": "4e2e3e71-89d4-4019-9ccd-5ff6faedcb5c",
   "metadata": {},
   "outputs": [],
   "source": [
    "ask(\"I have nine thin sections. Two go \"\n",
    "    \"to the lab and I drop one. Ashley \"\n",
    "    \"gives me four more, but I lose three. \"\n",
    "    \"Quick, how many thin sections do I \"\n",
    "    \"have now? \")"
   ]
  },
  {
   "cell_type": "markdown",
   "id": "0c655a9c-2b1e-4006-b4c6-63c198416958",
   "metadata": {},
   "source": [
    "## Really weird\n",
    "\n",
    "[Blog post](https://www.lesswrong.com/posts/kmWrwtGE9B9hpbgRT/a-search-for-more-chatgpt-gpt-3-5-gpt-4-unspeakable-glitch) by Martin Fell."
   ]
  },
  {
   "cell_type": "code",
   "execution_count": null,
   "id": "78e0910a-7692-4ad3-9cc2-3554312c3a22",
   "metadata": {},
   "outputs": [],
   "source": [
    "ask(\"Spell ' JSBracketAccess'\")"
   ]
  },
  {
   "cell_type": "markdown",
   "id": "bc66167a-3ea0-4657-8a9d-67d1b2a4c044",
   "metadata": {
    "editable": true,
    "slideshow": {
     "slide_type": ""
    },
    "tags": []
   },
   "source": [
    "## Some tasks are difficult for them"
   ]
  },
  {
   "cell_type": "code",
   "execution_count": null,
   "id": "2bfdb173-21ea-4626-a707-a3831ee3a5eb",
   "metadata": {
    "editable": true,
    "slideshow": {
     "slide_type": ""
    },
    "tags": []
   },
   "outputs": [],
   "source": [
    "ask(\"Take the letters in \"\n",
    "    \"'stratigraphically' and \"\n",
    "    \"reverse them\")"
   ]
  },
  {
   "cell_type": "code",
   "execution_count": null,
   "id": "8cb6f7a7-501a-4de0-bc25-0ac286a17c6f",
   "metadata": {},
   "outputs": [],
   "source": [
    "print(_[::-1])"
   ]
  },
  {
   "cell_type": "markdown",
   "id": "f0d292ff-0132-4e72-a473-93af95464e80",
   "metadata": {
    "editable": true,
    "slideshow": {
     "slide_type": ""
    },
    "tags": []
   },
   "source": [
    "We can force the model to tokenize the letters, eg:"
   ]
  },
  {
   "cell_type": "code",
   "execution_count": null,
   "id": "b781b7a1-58a9-4b0d-85d7-555615474788",
   "metadata": {},
   "outputs": [],
   "source": [
    "ask(\"Take the letters in \"\n",
    "    \"S-T-R-A-T-I-G-R-A-P-H-I-C-A-L-L-Y \"\n",
    "    \"and reverse them\")"
   ]
  },
  {
   "cell_type": "code",
   "execution_count": null,
   "id": "e07cd240-801d-4827-a3a8-e1ee6334bbaa",
   "metadata": {},
   "outputs": [],
   "source": [
    "print(_[::-1])"
   ]
  },
  {
   "cell_type": "markdown",
   "id": "fa9ae27e-5c69-4205-9ce4-8a8d942b1292",
   "metadata": {
    "editable": true,
    "slideshow": {
     "slide_type": ""
    },
    "tags": []
   },
   "source": [
    "## What is a token?"
   ]
  },
  {
   "cell_type": "code",
   "execution_count": null,
   "id": "4b76b49d-7685-4499-a2f5-00486c35cbc4",
   "metadata": {},
   "outputs": [],
   "source": [
    "import tiktoken\n",
    "\n",
    "encoding = tiktoken.encoding_for_model(\"gpt-3.5-turbo\")\n",
    "tokens = encoding.encode(\"stratigraphically\")\n",
    "[encoding.decode_single_token_bytes(token).decode() for token in tokens]"
   ]
  },
  {
   "cell_type": "code",
   "execution_count": null,
   "id": "f8e965bb-2ab2-4024-a521-4549669d4bbd",
   "metadata": {},
   "outputs": [],
   "source": [
    "tokens = encoding.encode(\"S-T-R-A-T-I-G-R-A-P-H-I-C-A-L-L-Y\")\n",
    "[encoding.decode_single_token_bytes(token).decode() for token in tokens]"
   ]
  },
  {
   "cell_type": "markdown",
   "id": "86fcbe74-d52b-4477-a115-b6b5a1a0566b",
   "metadata": {},
   "source": [
    "## They hallucinate and confabulate"
   ]
  },
  {
   "cell_type": "code",
   "execution_count": null,
   "id": "6799f3b5-e26c-4d2b-95fd-10d3b2d0376c",
   "metadata": {},
   "outputs": [],
   "source": [
    "ask(\"In which Tintin story does he \"\n",
    "    \"sell his fossil collection?\")"
   ]
  },
  {
   "cell_type": "markdown",
   "id": "0ed4641d-6755-4fca-9eba-fa13417693ea",
   "metadata": {},
   "source": [
    "## They never ask for clarification"
   ]
  },
  {
   "cell_type": "code",
   "execution_count": null,
   "id": "6fca9e1e-404e-4fd7-b886-442615876b9e",
   "metadata": {},
   "outputs": [],
   "source": [
    "ask(\"What do you get if you mix \"\n",
    "    \"red and green?\")"
   ]
  },
  {
   "cell_type": "markdown",
   "id": "9967bbcb-3e98-40c8-9dcb-a221f6439499",
   "metadata": {},
   "source": [
    "## So do LLMs know anything?\n",
    "\n",
    "Sort of, but it's \n",
    "\n",
    "1. From the Internet.\n",
    "2. Lossily compressed.\n",
    "3. Probabilistically interpolated.\n",
    "\n",
    "Ambiguity is a problem."
   ]
  },
  {
   "cell_type": "code",
   "execution_count": null,
   "id": "00e6a96d-ed06-4136-a2b4-373ddd7c9dd0",
   "metadata": {},
   "outputs": [],
   "source": [
    "ask(\"What is Polaris?\")"
   ]
  },
  {
   "cell_type": "code",
   "execution_count": null,
   "id": "c150bc94-a393-44f4-b214-7834023d19d4",
   "metadata": {},
   "outputs": [],
   "source": [
    "# There are over 280 Williamm Smiths on\n",
    "# https://en.wikipedia.org/wiki/William_Smith\n",
    "print(ask(\"Who was William Smith?\")) "
   ]
  },
  {
   "cell_type": "code",
   "execution_count": null,
   "id": "3bdf88f0-88f3-4992-8d27-e9c5d596aadb",
   "metadata": {},
   "outputs": [],
   "source": [
    "print(ask(\"Who was William Smith? \"\n",
    "          \"Ask clarifying questions \"\n",
    "          \"if you need to.\")) "
   ]
  },
  {
   "cell_type": "code",
   "execution_count": null,
   "id": "671f2a39-c1b8-45a5-8dd2-1131c73420f4",
   "metadata": {},
   "outputs": [],
   "source": [
    "print(ask(\"What does 'run' mean?\"))"
   ]
  },
  {
   "cell_type": "code",
   "execution_count": null,
   "id": "3a4719d2-4a0b-4259-8c76-92a2f1403de3",
   "metadata": {},
   "outputs": [],
   "source": [
    "ask(\"Is 'run' a verb?\")"
   ]
  },
  {
   "cell_type": "code",
   "execution_count": null,
   "id": "41d10269-7c44-404f-b023-2d5afc8c8063",
   "metadata": {},
   "outputs": [],
   "source": [
    "ask(\"Is 'run' a noun?\")"
   ]
  },
  {
   "cell_type": "code",
   "execution_count": null,
   "id": "704bc4c3-c387-4f02-a7ca-55a75c6131f1",
   "metadata": {},
   "outputs": [],
   "source": [
    "ask(\"Is sandstone porous?\")"
   ]
  },
  {
   "cell_type": "code",
   "execution_count": null,
   "id": "a1e899e3-4700-4e60-a1ed-2c188b8004b2",
   "metadata": {},
   "outputs": [],
   "source": [
    "ask(\"\"\"\n",
    "Q: Is shale porous?\n",
    "A: Shale is porous but has low porosity,\n",
    "   and very low effective porosity. It\n",
    "   depends on its grain size, \n",
    "   grain composition, and diagenesis.\n",
    "\n",
    "Q: Is limestone porous?\n",
    "A: Limestone can be very porous but it\n",
    "   can also be tight. It depends on many\n",
    "   factors, such as its depositional and\n",
    "   diagenetic history.\n",
    "\n",
    "Q: Is sandstone porous?\n",
    "A: \"\"\")"
   ]
  },
  {
   "cell_type": "code",
   "execution_count": null,
   "id": "29e880ff-3c0f-40f5-a354-6025fd6daf97",
   "metadata": {},
   "outputs": [],
   "source": [
    "# Type 2 truth.\n",
    "ask(\"Can granite be a reservoir rock?\")"
   ]
  },
  {
   "cell_type": "code",
   "execution_count": null,
   "id": "f5db38e0-f254-44a7-8f07-9d686e526b24",
   "metadata": {},
   "outputs": [],
   "source": [
    "question = \"Is sandstone permeable?\"\n",
    "ask(question)"
   ]
  },
  {
   "cell_type": "code",
   "execution_count": null,
   "id": "e14aa752-335c-4c39-a4cf-7376514d49ae",
   "metadata": {},
   "outputs": [],
   "source": [
    "print(ask(f\"\"\"I asked an LLM: {question}\n",
    "\n",
    "I got the response: {_}\n",
    "\n",
    "1. Consider how the response could be improved \\\n",
    "and made more complete.\n",
    "2. Write a better one incorporating these \\\n",
    "improvements.\"\"\"))"
   ]
  },
  {
   "cell_type": "markdown",
   "id": "d103686e-d0d2-4806-a567-8c7f0e470dee",
   "metadata": {},
   "source": [
    "## Can LLMs reason about logic?"
   ]
  },
  {
   "cell_type": "code",
   "execution_count": null,
   "id": "bde48be5-bb4b-4e9f-bac6-d8203614d0ab",
   "metadata": {},
   "outputs": [],
   "source": [
    "ask(\"This local sandstone has fossils. \"\n",
    "    \"All Cretaceous sandstones in this \"\n",
    "    \"basin are well sorted. No porous \"\n",
    "    \"sandstone in this basin is \"\n",
    "    \"fossiliferous. All well sorted \"\n",
    "    \"sandstones are porous. Can I say \"\n",
    "    \"anything about its age?\")\n",
    "\n",
    "# Try sorting the premises."
   ]
  },
  {
   "cell_type": "markdown",
   "id": "f16270cd-9592-40cf-9a7d-17971ca48f69",
   "metadata": {},
   "source": [
    "## Can LLMs reason about time and space?"
   ]
  },
  {
   "cell_type": "code",
   "execution_count": null,
   "id": "b69cfc5c-5b7a-4ada-9f81-9d5d620392e2",
   "metadata": {},
   "outputs": [],
   "source": [
    "ask(\"I am standing in the garden. \"\n",
    "    \"I walk to the kitchen and pick up \"\n",
    "    \"a cup, then walk to the living room. \"\n",
    "    \"I pick place a ball in the cup. \"\n",
    "    \"I carry the cup to the hall and turn \"\n",
    "    \"it upside down. I walk to the kitchen, \"\n",
    "    \"fill the cup with water, \"\n",
    "    \"then go back out to the garden. \"\n",
    "    \"Where is the ball?\"\n",
    ")"
   ]
  },
  {
   "cell_type": "markdown",
   "id": "75813c15-ff70-4d23-b21d-0322ae9cffde",
   "metadata": {},
   "source": [
    "This seems similar to reasoning about geological events:"
   ]
  },
  {
   "cell_type": "code",
   "execution_count": null,
   "id": "9066164a-f564-4edc-abab-319317cd9f17",
   "metadata": {},
   "outputs": [],
   "source": [
    "ask(\"I have a geological question. \"\n",
    "    \"Layer H overlies Layer N, which in turn \"\n",
    "    \"overlies Layer B. Regional normal fault Q \"\n",
    "    \"has E-W strike and cuts layers B, N and H. \"\n",
    "    \"Fold P folds Layer B. Dyke Z has NE-SW \"\n",
    "    \"strike and cuts Dyke X, which has NNE-SSW \"\n",
    "    \"strike and cuts layers B and N. Is Dyke X \"\n",
    "    \"cut by the fault?\")  # Yes."
   ]
  },
  {
   "cell_type": "markdown",
   "id": "b867c064-6890-4dbf-b58c-a12d27b3a021",
   "metadata": {},
   "source": [
    "## LLMs are really good at text analysis\n",
    "\n",
    "Text processing is laborious for humans.\n",
    "\n",
    "It is also hard to do with supervised learning.\n",
    "\n",
    "These abstracts are from the most recent issues of [_Geophysics_](https://library.seg.org/doi/10.1190/geo2023-0264.1), [_Geochemistry_](https://doi.org/10.1016/j.chemer.2023.126022) and [_Palaeontology_](https://onlinelibrary.wiley.com/doi/full/10.1111/pala.12690)."
   ]
  },
  {
   "cell_type": "code",
   "execution_count": null,
   "id": "536cd2ae-e426-49b9-a9f7-7f6184c6158d",
   "metadata": {},
   "outputs": [],
   "source": [
    "abstracts = [\n",
    "    \"Projection over convex sets (POCS) is one of the most widely used algorithms to interpolate seismic data sets. A formal understanding of the underlying objective function and the associated optimization process is, however, lacking to date in the literature. Here, POCS is shown to be equivalent to the application of the half-quadratic splitting (HQS) method to the 𝐿0 norm of an orthonormal projection of the sought after data, constrained on the available traces. Similarly, the apparently heuristic strategy of using a decaying threshold in POCS is revealed to be the result of the continuation strategy that HQS must use to converge to a solution of the minimizer. In light of this theoretical understanding, another methods able to solve this convex optimization problem, namely the Chambolle-Pock primal-dual algorithm, is shown to lead to a new POCS-like method with superior interpolation capabilities at nearly the same computational cost of the industry-standard POCS method.\",\n",
    "    \"The Nidar ophiolite is one of the well-preserved and almost complete ophiolite sections of the Neo-Tethyan oceanic lithosphere, obducted along the continental margin between the Indian and the Eurasian plate. This ophiolite sequence is mostly dominated by ultramafic rocks, consisting of forearc-related refractory, mainly harzburgite, dunite, and serpentinite, with minor intrusions of lherzolite, chromitites, and pyroxenites. In this present study, detailed mineralogical, whole rock geochemistry (major oxides, trace elements, PGE), and Nd isotopic composition of mantle-derived peridotites have been carried out to constrain the petrogenesis and melt evolution. These peridotites are depleted in nature due to the low modal composition of clinopyroxene, high forsterite content in olivine, and wide variation in Cr# and bulk rock chemistry, indicating variable degree of partial melting. The spoon-shaped rare earth element (REE) patterns indicate metasomatism by fluids derived from a subducting slab enriched in light REEs. Geochemical composition of the studied peridotites rocks is marked by high ratio of Al2O3/TiO2, LILE-LREE enrichment, HFSE depletion, and spoon-shaped chondrite-normalized REE patterns and (La/Sm)N > 1 and (Gd/Yb)N < 1, indicates some involvement of boninitic mantle melts and validate a subduction initiation process. The total PGE of the peridotites (ΣPGE = 33–337 ppb) is much more enriched than that of the primitive mantle and other ophiolite peridotites. The PGE distribution displays a concave upward pattern with higher PPGE/IPGE ratios (i.e., 0.11–1.45), suggesting that partial melting is not the only process for the evolution of the Nidar ophiolite peridotites. Enrichment of PPGE and incompatible elements (like LREE) and higher Pd/Ir ratio (0.69–8.26) indicates that these peridotites have undergone fluid/melt interaction in a supra-subduction zone (SSZ) tectonic setting. PGE concentrations of these depleted harzburgites and dunites, formed by partial melting of cpx–harzburgites in an SSZ that produced the boninitic-like melt. The enrichment of incompatible elements like the PPGE is mainly due to the circulation of fluids in the subduction zone, which leads to the PGE fractionation in mantle peridotites. Also, these peridotites have 143Nd/144Nd ratios (0.51148–0.51262) and εNd(t) (t = 140 Ma) values (i.e., +0.97 to −21.3), indicating derivation from depleted mantle sources within an intra-oceanic arc setting. The geochemical behavior exhibited by the Nidar ophiolite peridotites suggests the evolution of a highly depleted fore-arc mantle wedge significantly modified by various fluids and melts during subduction. The mineralogical, geochemical, and Nd isotopic composition of these peridotites and dunites mutually depict the diverse mantle compositions, suggesting insights into the interactions between the oceanic crust and mantle as well as associated geochemical cycling in an SSZ environment.\",\n",
    "    \"Tridentinosaurus antiquus represents one of the oldest fossil reptiles and one of the very few skeletal specimens with evidence of soft tissue preservation from the Cisuralian (Early Permian) of the Italian Alps. The preservation and appearance of the fossil have puzzled palaeontologists for decades and its taphonomy and phylogenetic position have remained unresolved. We reanalysed T. antiquus using ultraviolet light (UV), 3D surface modelling, scanning electron microscopy coupled with energy dispersive spectroscopy (SEM-EDS), micro x-ray diffraction (μ-XRD), Raman and attenuated total reflectance Fourier transformed infrared (ATR-FTIR) spectroscopy to determine the origin of the body outline and test whether this represents the remains of organically preserved soft tissues which in turn could reveal important anatomical details about this enigmatic protorosaur. The results reveal, however, that the material forming the body outline is not fossilized soft tissues but a manufactured pigment indicating that the body outline is a forgery. Our discovery poses new questions about the validity of this enigmatic taxon.\"\n",
    "]\n",
    "\n",
    "print(\"Word counts:\")\n",
    "[len(a.split()) for a in abstracts]"
   ]
  },
  {
   "cell_type": "code",
   "execution_count": null,
   "id": "cbf2bf6f-adcb-4371-933d-873629215484",
   "metadata": {},
   "outputs": [],
   "source": [
    "prompt = f\"\"\"\n",
    "A scientific abstract follows the #### characters.\n",
    "Perform three tasks:\n",
    " 1 Write a short, one-sentence summary.\n",
    " 2 Extract up to three keywords.\n",
    " 3 Classify the abstract into a category from the \\\n",
    "following list: Stratigraphy, Sedimentology, Volcanology, \\\n",
    "Geochemistry, Mineralogy, Palaeontology, Structural \\\n",
    "geology, Petrology, Economic geology, Planetary geology.\n",
    "Provide your output in JSON format with the keys:\\\n",
    "summary, keywords, category.\n",
    "####\n",
    "\"\"\""
   ]
  },
  {
   "cell_type": "code",
   "execution_count": null,
   "id": "3b0001aa-786f-48f6-8702-a9fc34d7c4be",
   "metadata": {},
   "outputs": [],
   "source": [
    "for abstract in abstracts:\n",
    "    print(ask(prompt + abstract))"
   ]
  },
  {
   "cell_type": "markdown",
   "id": "648181fb-c136-4c96-9e0c-d70aca713554",
   "metadata": {},
   "source": [
    "## Can agents provide knowledge?\n",
    "\n",
    "**Agents** can provide services:\n",
    "\n",
    "- Search\n",
    "- Code execution\n",
    "- API queries\n",
    "- Database queries"
   ]
  },
  {
   "cell_type": "code",
   "execution_count": null,
   "id": "b159c27a-7b3a-405a-8759-0ddf8dc68398",
   "metadata": {},
   "outputs": [],
   "source": [
    "prompt = (\"When did the dinosaurs \"\n",
    "          \"go extinct?\")\n",
    "ask(prompt)"
   ]
  },
  {
   "cell_type": "code",
   "execution_count": null,
   "id": "7e0545d0-59a4-4385-8ccf-14665a632b25",
   "metadata": {},
   "outputs": [],
   "source": [
    "from langchain_openai import ChatOpenAI\n",
    "from langchain.agents import load_tools\n",
    "from langchain.agents import initialize_agent\n",
    "from langchain.agents import AgentType\n",
    "\n",
    "llm = ChatOpenAI(temperature=0, model=MODEL)\n",
    "\n",
    "tools = [\"wikipedia\", \"llm-math\"]\n",
    "\n",
    "agent= initialize_agent(\n",
    "    load_tools(tools, llm=llm), \n",
    "    llm, \n",
    "    agent=AgentType.CHAT_ZERO_SHOT_REACT_DESCRIPTION,\n",
    "    handle_parsing_errors=True,\n",
    "    verbose=True\n",
    ")"
   ]
  },
  {
   "cell_type": "code",
   "execution_count": null,
   "id": "b8c11d10-fa73-4b7d-988d-85e271894476",
   "metadata": {},
   "outputs": [],
   "source": [
    "result = agent(prompt)\n",
    "result['output']"
   ]
  },
  {
   "cell_type": "code",
   "execution_count": null,
   "id": "f6e3d7e7-4ed9-4cae-a7da-78a26233fdc6",
   "metadata": {},
   "outputs": [],
   "source": [
    "_"
   ]
  },
  {
   "cell_type": "code",
   "execution_count": null,
   "id": "5ffa88e1-f398-4bcf-9a47-11b2bd135132",
   "metadata": {},
   "outputs": [],
   "source": [
    "ask(\"What is 12.81% of \"\n",
    "    \"66 million years?\"\n",
    "    )  # 8.4546 Ma"
   ]
  },
  {
   "cell_type": "code",
   "execution_count": null,
   "id": "a2f95462-334d-4bdb-a76b-03b9bb915fec",
   "metadata": {},
   "outputs": [],
   "source": [
    "agent(\"What is 12.81% of \"\n",
    "      \"66 million years?\"\n",
    "      )"
   ]
  },
  {
   "cell_type": "markdown",
   "id": "d61c9b1a-825a-42aa-97f3-202699b432c2",
   "metadata": {
    "jp-MarkdownHeadingCollapsed": true
   },
   "source": [
    "## It doesn't always work though"
   ]
  },
  {
   "cell_type": "code",
   "execution_count": null,
   "id": "e0ecc499-d4e9-4d11-883c-7f2ed8029875",
   "metadata": {},
   "outputs": [],
   "source": [
    "# Zoeppritz died at 26 in 1908.\n",
    "prompt = (\"How old was Karl Bernhard Zoeppritz \"\n",
    "          \"when he published the Zoeppritz \"\n",
    "          \"equations?\")\n",
    "ask(prompt)"
   ]
  },
  {
   "cell_type": "code",
   "execution_count": null,
   "id": "c31c8678-262d-4017-b3b4-016f4c9dd9df",
   "metadata": {
    "scrolled": true
   },
   "outputs": [],
   "source": [
    "result = agent(prompt)"
   ]
  },
  {
   "cell_type": "code",
   "execution_count": null,
   "id": "983b4484-346c-45aa-8c19-1e691d24ccfc",
   "metadata": {},
   "outputs": [],
   "source": [
    "_"
   ]
  },
  {
   "cell_type": "markdown",
   "id": "f61745e0-b07e-4b43-abcb-429ce055a292",
   "metadata": {},
   "source": [
    "## Conclusions\n",
    "\n",
    "#### 1. LLMs are amazing but flawed yet convincing\n",
    "#### 2. They can be really weird or hallucinate\n",
    "#### 3. Don't ask them for: information, reasoning\n",
    "#### 4. Do ask them for: summarization, analysis, ideas\n",
    "#### 5. What's next? Learn about agents, RAG, ensembles\n"
   ]
  },
  {
   "cell_type": "markdown",
   "id": "6ca9b4ba-7dd2-44e5-b1d0-a0b4fbefc9d7",
   "metadata": {},
   "source": [
    "<span style=\"color:lightgray\">&copy; 2024 Matt Hall, Equinor &nbsp; | &nbsp; licensed CC BY, please share this work</span>"
   ]
  }
 ],
 "metadata": {
  "kernelspec": {
   "display_name": "py311",
   "language": "python",
   "name": "py311"
  },
  "language_info": {
   "codemirror_mode": {
    "name": "ipython",
    "version": 3
   },
   "file_extension": ".py",
   "mimetype": "text/x-python",
   "name": "python",
   "nbconvert_exporter": "python",
   "pygments_lexer": "ipython3",
   "version": "3.11.6"
  }
 },
 "nbformat": 4,
 "nbformat_minor": 5
}
